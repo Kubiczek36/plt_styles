{
 "cells": [
  {
   "cell_type": "markdown",
   "metadata": {},
   "source": [
    "# Look on your style\n",
    "\n",
    "## choose your style out of a list of available styles"
   ]
  },
  {
   "cell_type": "code",
   "execution_count": null,
   "metadata": {},
   "outputs": [],
   "source": [
    "# show styles the ./styles folder\n",
    "\n",
    "import os\n",
    "import shutil\n",
    "\n",
    "# get file names of all styles\n",
    "styles = os.listdir('styles')\n",
    "\n",
    "style_to_use  = 0 \n",
    "\n",
    "for i in range(len(styles)):\n",
    "    if i == style_to_use:\n",
    "        print(i, \"<\"+13*'-', styles[i])\n",
    "    else:\n",
    "        print(i, \"\\t\\t\", styles[i])"
   ]
  },
  {
   "cell_type": "code",
   "execution_count": null,
   "metadata": {},
   "outputs": [],
   "source": [
    "style_name = os.path.join('styles', styles[style_to_use])\n",
    "\n",
    "import matplotlib.pyplot as plt\n",
    "import numpy as np\n",
    "\n",
    "# set style\n",
    "plt.style.use(style_name)"
   ]
  },
  {
   "cell_type": "markdown",
   "metadata": {},
   "source": [
    "# plot example"
   ]
  },
  {
   "cell_type": "code",
   "execution_count": null,
   "metadata": {},
   "outputs": [],
   "source": [
    "x = np.linspace(0, 10, 1000)\n",
    "y1 = np.sin(9*x) * np.cos(0.5*x)\n",
    "x2 = np.linspace(0, 10, 30)\n",
    "y2 = np.exp(-0.4*x2) * np.sin(2*x2)\n",
    "y3 = 0.08 * x + 0.1\n",
    "\n",
    "y2_std = np.abs(np.random.normal(0, 0.1, len(y2)))\n",
    "y3_std = np.abs(np.random.normal(0.043, 0.006, len(y3)))\n",
    "\n",
    "plt.title('Example plot')\n",
    "plt.plot(x, y1, label='sin(9x) * cos(0.5x)')\n",
    "plt.errorbar(x2, y2, yerr=y2_std, fmt='o', label='exp(-0.4x) * sin(2x) with error bars')\n",
    "plt.plot(x, y3, label='0.08x + 0.1')\n",
    "plt.fill_between(x, y3 - y3_std, y3 + y3_std, alpha=0.3, label='0.08x + 0.1 error area', color='C2')\n",
    "plt.xlabel('x')\n",
    "plt.ylabel('y')\n",
    "plt.legend()\n",
    "plt.show()\n",
    "\n"
   ]
  },
  {
   "cell_type": "markdown",
   "metadata": {},
   "source": [
    "## Histogram example"
   ]
  },
  {
   "cell_type": "code",
   "execution_count": null,
   "metadata": {},
   "outputs": [],
   "source": [
    "# generate random data\n",
    "x = np.random.normal(0, 1, 1000)\n",
    "y = np.random.normal(2, 0.5, 1000)\n",
    "\n",
    "# plot histogram\n",
    "plt.hist(x, bins=30, label='x')\n",
    "plt.hist(y, bins=30, label='y')\n",
    "plt.xlabel('x')\n",
    "plt.ylabel('count')\n",
    "plt.legend()\n",
    "plt.show()"
   ]
  },
  {
   "cell_type": "markdown",
   "metadata": {},
   "source": [
    "## image example"
   ]
  },
  {
   "cell_type": "code",
   "execution_count": null,
   "metadata": {},
   "outputs": [],
   "source": [
    "# generate 2d gaussian data\n",
    "x = np.linspace(-3, 3, 100)\n",
    "y = np.linspace(-3, 3, 100)\n",
    "X, Y = np.meshgrid(x, y)\n",
    "Z = np.exp(-0.5*((X-0.7)**2 + (Y-0.3)**2))\n",
    "\n",
    "# plot 2d gaussian data\n",
    "plt.pcolormesh(X, Y, Z, vmax=1, vmin=0)\n",
    "plt.colorbar()\n",
    "plt.xlabel('x')\n",
    "plt.ylabel('y')\n",
    "plt.show()"
   ]
  },
  {
   "cell_type": "code",
   "execution_count": null,
   "metadata": {},
   "outputs": [],
   "source": [
    "# plot with imshow\n",
    "\n",
    "# plot 2d gaussian data\n",
    "plt.imshow(Z, vmax=1, vmin=0, origin='lower', extent=[-3, 3, -3, 3])\n",
    "plt.colorbar()\n",
    "plt.xlabel('x')\n",
    "plt.ylabel('y')\n",
    "plt.show()"
   ]
  }
 ],
 "metadata": {
  "kernelspec": {
   "display_name": "MFp",
   "language": "python",
   "name": "python3"
  },
  "language_info": {
   "codemirror_mode": {
    "name": "ipython",
    "version": 3
   },
   "file_extension": ".py",
   "mimetype": "text/x-python",
   "name": "python",
   "nbconvert_exporter": "python",
   "pygments_lexer": "ipython3",
   "version": "3.9.17"
  },
  "orig_nbformat": 4
 },
 "nbformat": 4,
 "nbformat_minor": 2
}
